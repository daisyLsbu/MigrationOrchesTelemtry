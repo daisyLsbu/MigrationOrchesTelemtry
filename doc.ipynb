{
 "cells": [
  {
   "cell_type": "code",
   "execution_count": null,
   "metadata": {},
   "outputs": [],
   "source": []
  },
  {
   "cell_type": "markdown",
   "metadata": {},
   "source": [
    "for each container exec python or exec only stress"
   ]
  },
  {
   "cell_type": "code",
   "execution_count": null,
   "metadata": {},
   "outputs": [],
   "source": [
    "import docker\n",
    "\n",
    "from pprint import PrettyPrinter\n",
    "\n",
    "pp = PrettyPrinter(indent=2)\n",
    "\n",
    "client = docker.from_env()\n",
    "\n",
    "#container = client.containers.get(CONTAINER_ID)\n",
    "for container in client.containers.list():\n",
    "    pp.pprint(container.short_id)\n",
    "    exit_code, output = container.exec_run(\"ls\")\n",
    "    pp.pprint(output)\n",
    "\n",
    "from random import randint\n",
    "import os\n",
    "\n",
    "def startservice():\n",
    "        for epoch in range(10):\n",
    "            cpu = randint(0, 5)\n",
    "            io = randint(0, 3)\n",
    "            mem = randint(0, 10)\n",
    "            vm = randint(100, 300)\n",
    "            print(cpu,io, mem, vm)\n",
    "\n",
    "            cmd = f\"\"\"\n",
    "                stress -c {cpu} -i {io} -m {mem} --vm-bytes {vm}M -t 10s\n",
    "                \"\"\"\n",
    "            os.system(cmd)\n",
    "            #stress -c 2 -i 1 -m 1 --vm-bytes 128M -t 10s\n",
    "\n",
    "if __name__ == '__main__':\n",
    "    startservice()"
   ]
  },
  {
   "cell_type": "markdown",
   "metadata": {},
   "source": [
    "python file for while, epoch, random and stress"
   ]
  },
  {
   "cell_type": "code",
   "execution_count": null,
   "metadata": {},
   "outputs": [],
   "source": [
    "from random import randint\n",
    "\n",
    "def startservice():\n",
    "    while True:\n",
    "        for epoch in range(10):\n",
    "            cpu = randint(0, 5)\n",
    "            io = randint(0, 3)\n",
    "            mem = randint(0, 10)\n",
    "            vm = randint(100, 300)\n",
    "            print(cpu,io, mem, vm)\n",
    "            #stress -c 2 -i 1 -m 1 --vm-bytes 128M -t 10s\n",
    "\n",
    "if __name__ == '__main__':\n",
    "    startservice()"
   ]
  },
  {
   "cell_type": "markdown",
   "metadata": {},
   "source": [
    "running python file from docker"
   ]
  },
  {
   "cell_type": "markdown",
   "metadata": {},
   "source": [
    "nano test.py \n",
    "update file: example - print(\"python file\")\n",
    "or docker cp \n",
    "apt-get install python3\n",
    "python3 test.py\n",
    "\n",
    "from outside container: \n",
    "sudo docker exec <id> python3 test.py : worked\n"
   ]
  },
  {
   "cell_type": "markdown",
   "metadata": {},
   "source": [
    "creating custom docker image: to add and run script through docker for stress"
   ]
  },
  {
   "cell_type": "markdown",
   "metadata": {},
   "source": [
    "sudo docker run -it <image-id>\n",
    "sudo docker cp file <container-id>:<path>/<file-name>\n",
    "chmod +x file\n",
    "install stress ng: apt update; apt-get install stress\n",
    "test stress script\n",
    "commit: sudo docker commit <id> name:version\n",
    "save: sudo docker save -o /home/user/test_ubuntu.img name:version\n",
    "\n",
    "sudo docker load -i img-name\n",
    "sudo docker run -d name:version\n",
    "\n",
    "sudo docker exec <container-id> cmd"
   ]
  },
  {
   "cell_type": "markdown",
   "metadata": {},
   "source": [
    "docker stat \n",
    "sudo docker stats <container-id>\n",
    "?? - screenshot\n",
    "though API - python\n",
    "\n",
    "client = docker.DockerClient(base_url='unix:///var/run/docker.sock')"
   ]
  },
  {
   "cell_type": "code",
   "execution_count": null,
   "metadata": {},
   "outputs": [],
   "source": [
    "python3 -m pip install --upgrade pip\n",
    "pip install docker \n",
    "start the docker service first\n",
    "run one or more dockers : docker run -it 730eeb702b69<image_name>\n",
    "\n",
    "import docker\n",
    "\n",
    "client = docker.from_env()\n",
    "#client.containers.run('alpine', 'echo hello world')\n",
    "for containers in client.containers.list():\n",
    "    pp.pprint(containers.stats(decode=None, stream = False))"
   ]
  },
  {
   "cell_type": "markdown",
   "metadata": {},
   "source": [
    "adding randomness with epoch: while and for-epoch with random"
   ]
  },
  {
   "cell_type": "markdown",
   "metadata": {},
   "source": [
    "#!/bin/bash\n",
    "for epoch in {1..5}\n",
    "do\n",
    "   echo \"Welcome $i times\"\n",
    "done\n",
    "\n",
    "#!/bin/sh\n",
    "for i in 1 2 3 4 5\n",
    "do\n",
    "  echo \"Looping ... number $i\"\n",
    "done\n",
    "\n",
    "#!/bin/sh\n",
    "INPUT_STRING=hello\n",
    "while [ \"$INPUT_STRING\" != \"bye\" ]\n",
    "do\n",
    "  echo \"Please type something in (bye to quit)\"\n",
    "  read INPUT_STRING\n",
    "  echo \"You typed: $INPUT_STRING\"\n",
    "done\n",
    "\n",
    "#!/bin/sh\n",
    "while :\n",
    "do\n",
    "  echo \"Please type something in (^C to quit)\"\n",
    "  read INPUT_STRING\n",
    "  echo \"You typed: $INPUT_STRING\"\n",
    "done\n",
    "\n",
    "$(( ( RANDOM % 10 )  + 1 ))\n",
    "\n",
    "$(( ( RANDOM % 10 )  + 1 ))\n",
    "\n",
    "R=$(($RANDOM%Y+1))\n"
   ]
  },
  {
   "cell_type": "markdown",
   "metadata": {},
   "source": [
    "Adding stress component"
   ]
  },
  {
   "cell_type": "markdown",
   "metadata": {},
   "source": [
    "stress ng\n",
    "Designed to stress a computer system\n",
    "Over 220 stress tests \n",
    "Designed to be portable"
   ]
  },
  {
   "cell_type": "markdown",
   "metadata": {},
   "source": [
    "stress ng commands::\n",
    "apt-get install stress\n",
    "stress-ng <comp_option> <number> <time_option> <time> : multi options can be combined\n",
    "# uptime\n",
    "# stress -c 2 -i 1 -m 1 --vm-bytes 128M -t 10s\n",
    "# uptime\n",
    "stress-ng --cpu 2 --vm 4 -t 5m : "
   ]
  },
  {
   "cell_type": "markdown",
   "metadata": {},
   "source": [
    "script for stressload: create and execute\n",
    "\n",
    "touch stressload.sh\n",
    "nano stressload.sh\n",
    "# uptime\n",
    "# stress -c 2 -i 1 -m 1 --vm-bytes 128M -t 10s\n",
    "# uptime\n",
    "chmod +x stressload.sh\n",
    "./stressload.sh\n"
   ]
  },
  {
   "cell_type": "markdown",
   "metadata": {},
   "source": [
    "script for dockers:::\n",
    "scp docker image: ?\n",
    "------\n",
    "ry the Python scp module for Paramiko. It's very easy to use. See \n",
    "the following example:\n",
    "\n",
    "    import paramiko\n",
    "    from scp import SCPClient\n",
    "\n",
    "    def createSSHClient(server, port, user, password):\n",
    "        client = paramiko.SSHClient()\n",
    "        client.load_system_host_keys()\n",
    "        client.set_missing_host_key_policy(paramiko.AutoAddPolicy())\n",
    "        client.connect(server, port, user, password)\n",
    "        return client\n",
    "\n",
    "    ssh = createSSHClient(server, port, user, password)\n",
    "    scp = SCPClient(ssh.get_transport())\n",
    "    \n",
    "    \n",
    "Then call scp.get() or scp.put() to do SCP operations.\n",
    "\n",
    "------\n",
    "check docker is installed if not install and add user\n",
    "start dockers from list\n",
    "\n",
    "sudo apt install -y docker.io\n",
    "sudo usermod -aG docker $USER\n",
    "\n",
    "sudo docker images\n",
    "sudo docker run -d <image-id>"
   ]
  }
 ],
 "metadata": {
  "kernelspec": {
   "display_name": "Python 3",
   "language": "python",
   "name": "python3"
  },
  "language_info": {
   "name": "python",
   "version": "3.9.6"
  },
  "orig_nbformat": 4
 },
 "nbformat": 4,
 "nbformat_minor": 2
}
