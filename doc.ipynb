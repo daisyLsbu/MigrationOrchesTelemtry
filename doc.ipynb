{
 "cells": [
  {
   "cell_type": "markdown",
   "metadata": {},
   "source": [
    "writing to dictionary"
   ]
  },
  {
   "cell_type": "code",
   "execution_count": null,
   "metadata": {},
   "outputs": [],
   "source": [
    "s2 = {}\n",
    "s2.update({\"key\" : \"value\"})\n",
    "s2['k'] = 2\n",
    "s2['cc'] = {5:8}\n",
    "s2['cc'].update({'p':8})\n",
    "s2['10.4.5.6'] = {'h':5}\n",
    "s2['10.4.5.6'].update({'p':8})\n",
    "\n",
    "print(s2)"
   ]
  },
  {
   "cell_type": "markdown",
   "metadata": {},
   "source": [
    "reading flux db to get host kpi details"
   ]
  },
  {
   "cell_type": "code",
   "execution_count": null,
   "metadata": {},
   "outputs": [],
   "source": [
    "import influxdb_client, os, time\n",
    "from influxdb_client import InfluxDBClient, Point, WritePrecision\n",
    "from influxdb_client.client.write_api import SYNCHRONOUS\n",
    "from pprint import PrettyPrinter\n",
    "\n",
    "pp = PrettyPrinter(indent=2)\n",
    "\n",
    "def connectToDB():\n",
    "  #token = 'UnZq8-3qAHW4bk5BNjZgPJLBeeNkOXWatintbu4RAZe_96fdRbPHofP_sE6JWNEPrTnGyFUg26ofUifZQx19DA=='\n",
    "  mac_token = \"tKQMaN6mMBXH-gDotw6qvpEOvcZNIMILQWTH1LTKFDddf3e4owp48cG88bFae1L_H3H5Tp8GV0jrDdzBjQiRhQ==\"\n",
    "  org = \"LSBU\"\n",
    "  url = \"http://localhost:8086\"\n",
    "\n",
    "  client = influxdb_client.InfluxDBClient(url=url, token=mac_token, org=org)\n",
    "  return client\n",
    "\n",
    "def readFromDB(client, bucket):\n",
    "  \n",
    "  res = {}\n",
    "\n",
    "  # To create a empty set you have to use the built in method:\n",
    "  victim_set = {}\n",
    "  host_set={}\n",
    "\n",
    "  # for each host query the DB to get the information\n",
    "  #querying data from db\n",
    "  query_api = client.query_api()  \n",
    "  query = \"\"\"\n",
    "  from(bucket: \"telemetryData\")\n",
    "\t|> range(start: -120m)\n",
    "  |> filter(fn: (r) => r[\"_measurement\"] == \"test7\")\n",
    "  |> filter(fn: (r) => r[\"_field\"] == \"cpu_utilization\" or r[\"_field\"] == \"storage_free\" or r[\"_field\"] == \"vm_free\")\n",
    "  |> filter(fn: (r) => r[\"host\"] == \"10.35.109.155\")\n",
    "  \"\"\"\n",
    "\n",
    "\n",
    "  tables = query_api.query(query, org=\"LSBU\")\n",
    "  records = {}\n",
    "\n",
    "  for table in tables:\n",
    "      for record in table.records:\n",
    "        res[record['_field']] = record['_value']\n",
    "  records[\"10.35.109.155\"] = res\n",
    "  print(records)    "
   ]
  },
  {
   "cell_type": "markdown",
   "metadata": {},
   "source": [
    "reading from dictionary of list and lisi of dictionary"
   ]
  },
  {
   "cell_type": "code",
   "execution_count": 3,
   "metadata": {},
   "outputs": [
    {
     "name": "stdout",
     "output_type": "stream",
     "text": [
      "docker4\n",
      "254\n",
      "223\n"
     ]
    }
   ],
   "source": [
    "#check if key exists:\n",
    "docker4 = [{'ctr':[{\"major\":254,\"minor\":0,\"op\":\"read\",\"value\":4096}, {\"major\":223,\"minor\":0,\"op\":\"read\",\"value\":4096}], 'Y':[4, 5, 6]}]\n",
    "print('docker4')\n",
    "\n",
    "for doc in docker4:\n",
    "  if 'ctr' in doc:\n",
    "    for k in doc['ctr']:\n",
    "        print(k['major'])"
   ]
  },
  {
   "cell_type": "markdown",
   "metadata": {},
   "source": [
    "getting data from stat api of docker"
   ]
  },
  {
   "cell_type": "code",
   "execution_count": 4,
   "metadata": {},
   "outputs": [
    {
     "ename": "NotFound",
     "evalue": "404 Client Error for http+docker://localhost/v1.41/containers/container/json: Not Found (\"No such container: container\")",
     "output_type": "error",
     "traceback": [
      "\u001b[0;31m---------------------------------------------------------------------------\u001b[0m",
      "\u001b[0;31mHTTPError\u001b[0m                                 Traceback (most recent call last)",
      "File \u001b[0;32m~/Library/Python/3.9/lib/python/site-packages/docker/api/client.py:268\u001b[0m, in \u001b[0;36mAPIClient._raise_for_status\u001b[0;34m(self, response)\u001b[0m\n\u001b[1;32m    267\u001b[0m \u001b[39mtry\u001b[39;00m:\n\u001b[0;32m--> 268\u001b[0m     response\u001b[39m.\u001b[39;49mraise_for_status()\n\u001b[1;32m    269\u001b[0m \u001b[39mexcept\u001b[39;00m requests\u001b[39m.\u001b[39mexceptions\u001b[39m.\u001b[39mHTTPError \u001b[39mas\u001b[39;00m e:\n",
      "File \u001b[0;32m~/Library/Python/3.9/lib/python/site-packages/requests/models.py:1021\u001b[0m, in \u001b[0;36mResponse.raise_for_status\u001b[0;34m(self)\u001b[0m\n\u001b[1;32m   1020\u001b[0m \u001b[39mif\u001b[39;00m http_error_msg:\n\u001b[0;32m-> 1021\u001b[0m     \u001b[39mraise\u001b[39;00m HTTPError(http_error_msg, response\u001b[39m=\u001b[39m\u001b[39mself\u001b[39m)\n",
      "\u001b[0;31mHTTPError\u001b[0m: 404 Client Error: Not Found for url: http+docker://localhost/v1.41/containers/container/json",
      "\nThe above exception was the direct cause of the following exception:\n",
      "\u001b[0;31mNotFound\u001b[0m                                  Traceback (most recent call last)",
      "Cell \u001b[0;32mIn[4], line 3\u001b[0m\n\u001b[1;32m      1\u001b[0m \u001b[39mimport\u001b[39;00m \u001b[39mdocker\u001b[39;00m\n\u001b[1;32m      2\u001b[0m client \u001b[39m=\u001b[39m docker\u001b[39m.\u001b[39mfrom_env()\n\u001b[0;32m----> 3\u001b[0m stats \u001b[39m=\u001b[39m client\u001b[39m.\u001b[39;49mcontainers\u001b[39m.\u001b[39;49mget(\u001b[39m'\u001b[39;49m\u001b[39mcontainer\u001b[39;49m\u001b[39m'\u001b[39;49m)\u001b[39m.\u001b[39mstats(stream\u001b[39m=\u001b[39m\u001b[39mFalse\u001b[39;00m)\n\u001b[1;32m      4\u001b[0m UsageDelta \u001b[39m=\u001b[39m stats[\u001b[39m'\u001b[39m\u001b[39mcpu_stats\u001b[39m\u001b[39m'\u001b[39m][\u001b[39m'\u001b[39m\u001b[39mcpu_usage\u001b[39m\u001b[39m'\u001b[39m][\u001b[39m'\u001b[39m\u001b[39mtotal_usage\u001b[39m\u001b[39m'\u001b[39m] \u001b[39m-\u001b[39m stats[\u001b[39m'\u001b[39m\u001b[39mprecpu_stats\u001b[39m\u001b[39m'\u001b[39m][\u001b[39m'\u001b[39m\u001b[39mcpu_usage\u001b[39m\u001b[39m'\u001b[39m][\u001b[39m'\u001b[39m\u001b[39mtotal_usage\u001b[39m\u001b[39m'\u001b[39m]\n\u001b[1;32m      5\u001b[0m \u001b[39m# from informations : UsageDelta = 25382985593 - 25382168431\u001b[39;00m\n",
      "File \u001b[0;32m~/Library/Python/3.9/lib/python/site-packages/docker/models/containers.py:936\u001b[0m, in \u001b[0;36mContainerCollection.get\u001b[0;34m(self, container_id)\u001b[0m\n\u001b[1;32m    920\u001b[0m \u001b[39mdef\u001b[39;00m \u001b[39mget\u001b[39m(\u001b[39mself\u001b[39m, container_id):\n\u001b[1;32m    921\u001b[0m     \u001b[39m\"\"\"\u001b[39;00m\n\u001b[1;32m    922\u001b[0m \u001b[39m    Get a container by name or ID.\u001b[39;00m\n\u001b[1;32m    923\u001b[0m \n\u001b[0;32m   (...)\u001b[0m\n\u001b[1;32m    934\u001b[0m \u001b[39m            If the server returns an error.\u001b[39;00m\n\u001b[1;32m    935\u001b[0m \u001b[39m    \"\"\"\u001b[39;00m\n\u001b[0;32m--> 936\u001b[0m     resp \u001b[39m=\u001b[39m \u001b[39mself\u001b[39;49m\u001b[39m.\u001b[39;49mclient\u001b[39m.\u001b[39;49mapi\u001b[39m.\u001b[39;49minspect_container(container_id)\n\u001b[1;32m    937\u001b[0m     \u001b[39mreturn\u001b[39;00m \u001b[39mself\u001b[39m\u001b[39m.\u001b[39mprepare_model(resp)\n",
      "File \u001b[0;32m~/Library/Python/3.9/lib/python/site-packages/docker/utils/decorators.py:19\u001b[0m, in \u001b[0;36mcheck_resource.<locals>.decorator.<locals>.wrapped\u001b[0;34m(self, resource_id, *args, **kwargs)\u001b[0m\n\u001b[1;32m     15\u001b[0m \u001b[39mif\u001b[39;00m \u001b[39mnot\u001b[39;00m resource_id:\n\u001b[1;32m     16\u001b[0m     \u001b[39mraise\u001b[39;00m errors\u001b[39m.\u001b[39mNullResource(\n\u001b[1;32m     17\u001b[0m         \u001b[39m'\u001b[39m\u001b[39mResource ID was not provided\u001b[39m\u001b[39m'\u001b[39m\n\u001b[1;32m     18\u001b[0m     )\n\u001b[0;32m---> 19\u001b[0m \u001b[39mreturn\u001b[39;00m f(\u001b[39mself\u001b[39;49m, resource_id, \u001b[39m*\u001b[39;49margs, \u001b[39m*\u001b[39;49m\u001b[39m*\u001b[39;49mkwargs)\n",
      "File \u001b[0;32m~/Library/Python/3.9/lib/python/site-packages/docker/api/container.py:784\u001b[0m, in \u001b[0;36mContainerApiMixin.inspect_container\u001b[0;34m(self, container)\u001b[0m\n\u001b[1;32m    768\u001b[0m \u001b[39m@utils\u001b[39m\u001b[39m.\u001b[39mcheck_resource(\u001b[39m'\u001b[39m\u001b[39mcontainer\u001b[39m\u001b[39m'\u001b[39m)\n\u001b[1;32m    769\u001b[0m \u001b[39mdef\u001b[39;00m \u001b[39minspect_container\u001b[39m(\u001b[39mself\u001b[39m, container):\n\u001b[1;32m    770\u001b[0m     \u001b[39m\"\"\"\u001b[39;00m\n\u001b[1;32m    771\u001b[0m \u001b[39m    Identical to the `docker inspect` command, but only for containers.\u001b[39;00m\n\u001b[1;32m    772\u001b[0m \n\u001b[0;32m   (...)\u001b[0m\n\u001b[1;32m    782\u001b[0m \u001b[39m            If the server returns an error.\u001b[39;00m\n\u001b[1;32m    783\u001b[0m \u001b[39m    \"\"\"\u001b[39;00m\n\u001b[0;32m--> 784\u001b[0m     \u001b[39mreturn\u001b[39;00m \u001b[39mself\u001b[39;49m\u001b[39m.\u001b[39;49m_result(\n\u001b[1;32m    785\u001b[0m         \u001b[39mself\u001b[39;49m\u001b[39m.\u001b[39;49m_get(\u001b[39mself\u001b[39;49m\u001b[39m.\u001b[39;49m_url(\u001b[39m\"\u001b[39;49m\u001b[39m/containers/\u001b[39;49m\u001b[39m{0}\u001b[39;49;00m\u001b[39m/json\u001b[39;49m\u001b[39m\"\u001b[39;49m, container)), \u001b[39mTrue\u001b[39;49;00m\n\u001b[1;32m    786\u001b[0m     )\n",
      "File \u001b[0;32m~/Library/Python/3.9/lib/python/site-packages/docker/api/client.py:274\u001b[0m, in \u001b[0;36mAPIClient._result\u001b[0;34m(self, response, json, binary)\u001b[0m\n\u001b[1;32m    272\u001b[0m \u001b[39mdef\u001b[39;00m \u001b[39m_result\u001b[39m(\u001b[39mself\u001b[39m, response, json\u001b[39m=\u001b[39m\u001b[39mFalse\u001b[39;00m, binary\u001b[39m=\u001b[39m\u001b[39mFalse\u001b[39;00m):\n\u001b[1;32m    273\u001b[0m     \u001b[39massert\u001b[39;00m \u001b[39mnot\u001b[39;00m (json \u001b[39mand\u001b[39;00m binary)\n\u001b[0;32m--> 274\u001b[0m     \u001b[39mself\u001b[39;49m\u001b[39m.\u001b[39;49m_raise_for_status(response)\n\u001b[1;32m    276\u001b[0m     \u001b[39mif\u001b[39;00m json:\n\u001b[1;32m    277\u001b[0m         \u001b[39mreturn\u001b[39;00m response\u001b[39m.\u001b[39mjson()\n",
      "File \u001b[0;32m~/Library/Python/3.9/lib/python/site-packages/docker/api/client.py:270\u001b[0m, in \u001b[0;36mAPIClient._raise_for_status\u001b[0;34m(self, response)\u001b[0m\n\u001b[1;32m    268\u001b[0m     response\u001b[39m.\u001b[39mraise_for_status()\n\u001b[1;32m    269\u001b[0m \u001b[39mexcept\u001b[39;00m requests\u001b[39m.\u001b[39mexceptions\u001b[39m.\u001b[39mHTTPError \u001b[39mas\u001b[39;00m e:\n\u001b[0;32m--> 270\u001b[0m     \u001b[39mraise\u001b[39;00m create_api_error_from_http_exception(e) \u001b[39mfrom\u001b[39;00m \u001b[39me\u001b[39;00m\n",
      "File \u001b[0;32m~/Library/Python/3.9/lib/python/site-packages/docker/errors.py:39\u001b[0m, in \u001b[0;36mcreate_api_error_from_http_exception\u001b[0;34m(e)\u001b[0m\n\u001b[1;32m     37\u001b[0m     \u001b[39melse\u001b[39;00m:\n\u001b[1;32m     38\u001b[0m         \u001b[39mcls\u001b[39m \u001b[39m=\u001b[39m NotFound\n\u001b[0;32m---> 39\u001b[0m \u001b[39mraise\u001b[39;00m \u001b[39mcls\u001b[39m(e, response\u001b[39m=\u001b[39mresponse, explanation\u001b[39m=\u001b[39mexplanation) \u001b[39mfrom\u001b[39;00m \u001b[39me\u001b[39;00m\n",
      "\u001b[0;31mNotFound\u001b[0m: 404 Client Error for http+docker://localhost/v1.41/containers/container/json: Not Found (\"No such container: container\")"
     ]
    }
   ],
   "source": [
    "import docker\n",
    "client = docker.from_env()\n",
    "stats = client.containers.get('container').stats(stream=False)\n",
    "UsageDelta = stats['cpu_stats']['cpu_usage']['total_usage'] - stats['precpu_stats']['cpu_usage']['total_usage']\n",
    "# from informations : UsageDelta = 25382985593 - 25382168431\n",
    "\n",
    "SystemDelta = stats['cpu_stats']['cpu_usage']['system_cpu_usage'] - stats['precpu_stats']['cpu_usage']['system_cpu_usage']\n",
    "# from informations : SystemDelta = 75406420000000 - 75400410000000\n",
    "\n",
    "len_cpu = len(stats['cpu_stats']['cpu_usage']['percpu_usage'])\n",
    "# from my informations : len_cpu = 2\n",
    "\n",
    "\n",
    "percentage = (UsageDelta / SystemDelta) * len_cpu * 100\n",
    "# this is a little big because the result is : 0.02719341098169717\n",
    "\n",
    "percent = round(percentage, 2)\n",
    "# now The output is 0.02 and thats the answer."
   ]
  },
  {
   "cell_type": "markdown",
   "metadata": {},
   "source": [
    "for each container exec python or exec only stress"
   ]
  },
  {
   "cell_type": "code",
   "execution_count": null,
   "metadata": {},
   "outputs": [],
   "source": [
    "import docker\n",
    "\n",
    "from pprint import PrettyPrinter\n",
    "\n",
    "pp = PrettyPrinter(indent=2)\n",
    "\n",
    "client = docker.from_env()\n",
    "\n",
    "#container = client.containers.get(CONTAINER_ID)\n",
    "for container in client.containers.list():\n",
    "    pp.pprint(container.short_id)\n",
    "    exit_code, output = container.exec_run(\"ls\")\n",
    "    pp.pprint(output)\n"
   ]
  },
  {
   "cell_type": "markdown",
   "metadata": {},
   "source": [
    "python file for while, epoch, random and stress"
   ]
  },
  {
   "cell_type": "code",
   "execution_count": null,
   "metadata": {},
   "outputs": [],
   "source": [
    "from random import randint\n",
    "import os\n",
    "\n",
    "def startservice():\n",
    "        for epoch in range(10):\n",
    "            cpu = randint(1, 5)\n",
    "            io = randint(1, 3)\n",
    "            mem = randint(1, 10)\n",
    "            vm = randint(100, 300)\n",
    "            print(cpu,io, mem, vm)\n",
    "\n",
    "            cmd = f\"\"\"\n",
    "                stress -c {cpu} -i {io} -m {mem} --vm-bytes {vm}M -t 10s\n",
    "                \"\"\"\n",
    "            os.system(cmd)\n",
    "            #stress -c 2 -i 1 -m 1 --vm-bytes 128M -t 10s\n",
    "\n",
    "if __name__ == '__main__':\n",
    "    startservice()"
   ]
  },
  {
   "cell_type": "code",
   "execution_count": null,
   "metadata": {},
   "outputs": [],
   "source": [
    "from random import randint\n",
    "\n",
    "def startservice():\n",
    "    while True:\n",
    "        for epoch in range(10):\n",
    "            cpu = randint(0, 5)\n",
    "            io = randint(0, 3)\n",
    "            mem = randint(0, 10)\n",
    "            vm = randint(100, 300)\n",
    "            print(cpu,io, mem, vm)\n",
    "            #stress -c 2 -i 1 -m 1 --vm-bytes 128M -t 10s\n",
    "\n",
    "if __name__ == '__main__':\n",
    "    startservice()"
   ]
  },
  {
   "cell_type": "markdown",
   "metadata": {},
   "source": [
    "running python file from docker"
   ]
  },
  {
   "cell_type": "markdown",
   "metadata": {},
   "source": [
    "nano test.py \n",
    "update file: example - print(\"python file\")\n",
    "or docker cp \n",
    "apt-get install python3\n",
    "python3 test.py\n",
    "\n",
    "from outside container: \n",
    "sudo docker exec <id> python3 test.py : worked\n"
   ]
  },
  {
   "cell_type": "markdown",
   "metadata": {},
   "source": [
    "creating custom docker image: to add and run script through docker for stress"
   ]
  },
  {
   "cell_type": "markdown",
   "metadata": {},
   "source": [
    "sudo docker run -it <image-id>\n",
    "sudo docker cp file <container-id>:<path>/<file-name>\n",
    "chmod +x file\n",
    "install stress ng: apt update; apt-get install stress\n",
    "test stress script\n",
    "commit: sudo docker commit <id> name:version\n",
    "save: sudo docker save -o /home/user/test_ubuntu.img name:version\n",
    "\n",
    "sudo docker load -i img-name\n",
    "sudo docker run -d name:version\n",
    "\n",
    "sudo docker exec <container-id> cmd"
   ]
  },
  {
   "cell_type": "markdown",
   "metadata": {},
   "source": [
    "docker stat \n",
    "sudo docker stats <container-id>\n",
    "?? - screenshot\n",
    "though API - python\n",
    "\n",
    "client = docker.DockerClient(base_url='unix:///var/run/docker.sock')"
   ]
  },
  {
   "cell_type": "code",
   "execution_count": null,
   "metadata": {},
   "outputs": [],
   "source": [
    "python3 -m pip install --upgrade pip\n",
    "pip install docker \n",
    "start the docker service first\n",
    "run one or more dockers : docker run -it 730eeb702b69<image_name>\n",
    "\n",
    "import docker\n",
    "\n",
    "client = docker.from_env()\n",
    "#client.containers.run('alpine', 'echo hello world')\n",
    "for containers in client.containers.list():\n",
    "    pp.pprint(containers.stats(decode=None, stream = False))"
   ]
  },
  {
   "cell_type": "markdown",
   "metadata": {},
   "source": [
    "adding randomness with epoch: while and for-epoch with random"
   ]
  },
  {
   "cell_type": "markdown",
   "metadata": {},
   "source": [
    "#!/bin/bash\n",
    "for epoch in {1..5}\n",
    "do\n",
    "   echo \"Welcome $i times\"\n",
    "done\n",
    "\n",
    "#!/bin/sh\n",
    "for i in 1 2 3 4 5\n",
    "do\n",
    "  echo \"Looping ... number $i\"\n",
    "done\n",
    "\n",
    "#!/bin/sh\n",
    "INPUT_STRING=hello\n",
    "while [ \"$INPUT_STRING\" != \"bye\" ]\n",
    "do\n",
    "  echo \"Please type something in (bye to quit)\"\n",
    "  read INPUT_STRING\n",
    "  echo \"You typed: $INPUT_STRING\"\n",
    "done\n",
    "\n",
    "#!/bin/sh\n",
    "while :\n",
    "do\n",
    "  echo \"Please type something in (^C to quit)\"\n",
    "  read INPUT_STRING\n",
    "  echo \"You typed: $INPUT_STRING\"\n",
    "done\n",
    "\n",
    "$(( ( RANDOM % 10 )  + 1 ))\n",
    "\n",
    "$(( ( RANDOM % 10 )  + 1 ))\n",
    "\n",
    "R=$(($RANDOM%Y+1))\n"
   ]
  },
  {
   "cell_type": "markdown",
   "metadata": {},
   "source": [
    "Adding stress component"
   ]
  },
  {
   "cell_type": "markdown",
   "metadata": {},
   "source": [
    "stress ng\n",
    "Designed to stress a computer system\n",
    "Over 220 stress tests \n",
    "Designed to be portable"
   ]
  },
  {
   "cell_type": "markdown",
   "metadata": {},
   "source": [
    "stress ng commands::\n",
    "apt-get install stress\n",
    "stress-ng <comp_option> <number> <time_option> <time> : multi options can be combined\n",
    "# uptime\n",
    "# stress -c 2 -i 1 -m 1 --vm-bytes 128M -t 10s\n",
    "# uptime\n",
    "stress-ng --cpu 2 --vm 4 -t 5m : "
   ]
  },
  {
   "cell_type": "markdown",
   "metadata": {},
   "source": [
    "script for stressload: create and execute\n",
    "\n",
    "touch stressload.sh\n",
    "nano stressload.sh\n",
    "# uptime\n",
    "# stress -c 2 -i 1 -m 1 --vm-bytes 128M -t 10s\n",
    "# uptime\n",
    "chmod +x stressload.sh\n",
    "./stressload.sh\n"
   ]
  },
  {
   "cell_type": "markdown",
   "metadata": {},
   "source": [
    "script for dockers:::\n",
    "scp docker image: ?\n",
    "------\n",
    "ry the Python scp module for Paramiko. It's very easy to use. See \n",
    "the following example:\n",
    "\n",
    "    import paramiko\n",
    "    from scp import SCPClient\n",
    "\n",
    "    def createSSHClient(server, port, user, password):\n",
    "        client = paramiko.SSHClient()\n",
    "        client.load_system_host_keys()\n",
    "        client.set_missing_host_key_policy(paramiko.AutoAddPolicy())\n",
    "        client.connect(server, port, user, password)\n",
    "        return client\n",
    "\n",
    "    ssh = createSSHClient(server, port, user, password)\n",
    "    scp = SCPClient(ssh.get_transport())\n",
    "    \n",
    "    \n",
    "Then call scp.get() or scp.put() to do SCP operations.\n",
    "\n",
    "------\n",
    "check docker is installed if not install and add user\n",
    "start dockers from list\n",
    "\n",
    "sudo apt install -y docker.io\n",
    "sudo usermod -aG docker $USER\n",
    "\n",
    "sudo docker images\n",
    "sudo docker run -d <image-id>"
   ]
  },
  {
   "cell_type": "markdown",
   "metadata": {},
   "source": [
    "psutil app thread async "
   ]
  }
 ],
 "metadata": {
  "kernelspec": {
   "display_name": "Python 3",
   "language": "python",
   "name": "python3"
  },
  "language_info": {
   "codemirror_mode": {
    "name": "ipython",
    "version": 3
   },
   "file_extension": ".py",
   "mimetype": "text/x-python",
   "name": "python",
   "nbconvert_exporter": "python",
   "pygments_lexer": "ipython3",
   "version": "3.9.6"
  },
  "orig_nbformat": 4
 },
 "nbformat": 4,
 "nbformat_minor": 2
}
